{
 "cells": [
  {
   "cell_type": "code",
   "execution_count": 1,
   "id": "ac7a9674",
   "metadata": {},
   "outputs": [
    {
     "name": "stdout",
     "output_type": "stream",
     "text": [
      "Connected\n",
      "Hello, thanks for connecting with ASRJC!\n"
     ]
    }
   ],
   "source": [
    "import socket\n",
    "\n",
    "# same protocol (TCP/IP) as server\n",
    "client_socket = socket.socket()\n",
    "\n",
    "# connect to same address & port number as server\n",
    "client_socket.connect(('127.0.0.1', 8081))\n",
    "\n",
    "print(\"Connected\")\n",
    "\n",
    "# 1024 indicates maximum number of bytes that should be read at one time\n",
    "# if more than 1024 bytes had been sent, subsequent calls to recv would receive the rest of the data\n",
    "data = client_socket.recv(1024)\n",
    "\n",
    "# The data received by the socket is a stream of bits\n",
    "# needs to be decoded to a string using decode() so that it can be printed to the screen\n",
    "\n",
    "message = data.decode()\n",
    "print(message)\n",
    "\n",
    "# disconnect the socket and free up system resources\n",
    "client_socket.close()"
   ]
  }
 ],
 "metadata": {
  "kernelspec": {
   "display_name": "Python 3",
   "language": "python",
   "name": "python3"
  },
  "language_info": {
   "codemirror_mode": {
    "name": "ipython",
    "version": 3
   },
   "file_extension": ".py",
   "mimetype": "text/x-python",
   "name": "python",
   "nbconvert_exporter": "python",
   "pygments_lexer": "ipython3",
   "version": "3.6.4"
  }
 },
 "nbformat": 4,
 "nbformat_minor": 5
}
