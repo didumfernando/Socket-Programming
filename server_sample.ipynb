{
 "cells": [
  {
   "cell_type": "code",
   "execution_count": 1,
   "id": "0893b133",
   "metadata": {},
   "outputs": [
    {
     "name": "stdout",
     "output_type": "stream",
     "text": [
      "Waiting for connection...\n",
      "Client ('127.0.0.1', 49645) connected from ASRJC\n"
     ]
    }
   ],
   "source": [
    "import socket\n",
    "\n",
    "# default protocol: TCP/IP(v4)\n",
    "server_socket = socket.socket()\n",
    "\n",
    "# localhost = 127.0.0.1, port number can be any number between 1024 to 65535\n",
    "server_socket.bind(('127.0.0.1', 8081))\n",
    "\n",
    " \n",
    "# listen for a connection made from client\n",
    "server_socket.listen()\n",
    "\n",
    "\n",
    "# wait for a connection to be made\n",
    "# when a new client connects, two parameters are returned:\n",
    "# - a new socket, and\n",
    "# - the network address of the client that connected, including its IP address and port\n",
    "print('Waiting for connection...')\n",
    "connection_socket, address = server_socket.accept()\n",
    "\n",
    "print(f'Client {address} connected from ASRJC')\n",
    "\n",
    "\n",
    "# set the message and encode it (default encoding is utf-8)\n",
    "message = 'Hello, thanks for connecting with ASRJC!'\n",
    "data = message.encode() # convert message to binary\n",
    "\n",
    "# alternative way of encoding:\n",
    "# data = b\"Hello, thanks for connecting\"\n",
    "\n",
    "#send the encoded data through the connection socket\n",
    "connection_socket.sendall(data)\n",
    " \n",
    "# disconnect the sockets and free up system resources\n",
    "connection_socket.close()\n",
    "server_socket.close()"
   ]
  }
 ],
 "metadata": {
  "kernelspec": {
   "display_name": "Python 3",
   "language": "python",
   "name": "python3"
  },
  "language_info": {
   "codemirror_mode": {
    "name": "ipython",
    "version": 3
   },
   "file_extension": ".py",
   "mimetype": "text/x-python",
   "name": "python",
   "nbconvert_exporter": "python",
   "pygments_lexer": "ipython3",
   "version": "3.6.4"
  }
 },
 "nbformat": 4,
 "nbformat_minor": 5
}
